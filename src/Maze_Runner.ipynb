{
 "cells": [
  {
   "cell_type": "markdown",
   "metadata": {},
   "source": [
    "# Maze Runner(미로찾기)\n",
    "본 콘텐츠는 미로 안에서 자동차의 움직임과 ir센서 데이터를 학습시킨 모델을 생성하여, 미로 안에서 스스로 벽에 부딪히지 않고 미로를 따라 움직일 수 있는 자동차를 만드는 콘텐츠입니다.  \n",
    "처음 데이터를 수집할 때에는 직접 다이얼(핸들)을 돌려서 자동차가 벽에 부딪히지 않게 해주어야 하지만,  \n",
    "데이터를 수집한 뒤 학습 과정을 거쳐 생성된 모델을 만들면 벽에 부딪히지 않고 미로 안을 스스로 움직이는 자동차를 만들 수 있습니다."
   ]
  },
  {
   "cell_type": "markdown",
   "metadata": {},
   "source": [
    "## 1. 데이터 수집\n",
    "데이터 수집에서는 총 3개의 데이터를 수집합니다.  \n",
    "1 - 첫번째 ir 센서에서 측정된 거리 데이터  \n",
    "2 - 두번째 ir 센서에서 측정된 거리 데이터  \n",
    "3 - dial 데이터  \n",
    "본 콘텐츠에서 Dial 모듈은 자동차 핸들과 같은 역할을 합니다.  \n",
    "Dial을 가운데(1~100 범위에서 50에 해당하는 위치)로 두었을 때 자동차는 직진합니다.  \n",
    "Dial을 왼쪽 / 오른쪽으로 돌릴 경우 각각 좌회전 / 우회전하게 되며, 더 많이 돌릴 수록 회전하는 속도가 빨라집니다."
   ]
  },
  {
   "cell_type": "markdown",
   "metadata": {},
   "source": [
    "### 1-1. 모듈 Import 및 클래스 객체 선언"
   ]
  },
  {
   "cell_type": "code",
   "execution_count": null,
   "metadata": {},
   "outputs": [],
   "source": [
    "from modicar import Car\n",
    "import modi"
   ]
  },
  {
   "cell_type": "code",
   "execution_count": null,
   "metadata": {},
   "outputs": [],
   "source": [
    "car = Car()\n",
    "bundle = modi.MODI()\n",
    "mot = bundle.motors[0]\n",
    "dial = bundle.dials[0]\n",
    "ir1 = bundle.irs[0]\n",
    "ir2 = bundle.irs[1]\n",
    "btn = bundle.buttons[0]"
   ]
  },
  {
   "cell_type": "markdown",
   "metadata": {},
   "source": [
    "### 1-2. 데이터 수집"
   ]
  },
  {
   "cell_type": "code",
   "execution_count": null,
   "metadata": {},
   "outputs": [],
   "source": [
    "car.collect_data(mot, ir1, ir2, btn, dial)"
   ]
  },
  {
   "cell_type": "code",
   "execution_count": null,
   "metadata": {},
   "outputs": [],
   "source": []
  }
 ],
 "metadata": {
  "kernelspec": {
   "display_name": "Python 3",
   "language": "python",
   "name": "python3"
  },
  "language_info": {
   "codemirror_mode": {
    "name": "ipython",
    "version": 3
   },
   "file_extension": ".py",
   "mimetype": "text/x-python",
   "name": "python",
   "nbconvert_exporter": "python",
   "pygments_lexer": "ipython3",
   "version": "3.7.3"
  }
 },
 "nbformat": 4,
 "nbformat_minor": 4
}
