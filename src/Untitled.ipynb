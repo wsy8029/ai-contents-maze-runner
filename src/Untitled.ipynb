{
 "cells": [
  {
   "cell_type": "code",
   "execution_count": 1,
   "metadata": {},
   "outputs": [
    {
     "name": "stdout",
     "output_type": "stream",
     "text": [
      "Running PyMODI (v0.9.2)\n",
      "Newer PyMODI (v1.0.0) is available!\n"
     ]
    }
   ],
   "source": [
    "from modicar import Car\n",
    "import modi"
   ]
  },
  {
   "cell_type": "code",
   "execution_count": 2,
   "metadata": {},
   "outputs": [
    {
     "name": "stdout",
     "output_type": "stream",
     "text": [
      "Run Can Task.\n",
      "Start initializing connected MODI modules\n",
      "Dial (861) has been connected!\n",
      "Motor (3764) has been connected!\n",
      "Ir (334) has been connected!\n",
      "Ir (3772) has been connected!\n",
      "Button (4087) has been connected!\n",
      "MODI modules are initialized!\n"
     ]
    }
   ],
   "source": [
    "bundle = modi.MODI()\n",
    "car = Car(bundle)"
   ]
  },
  {
   "cell_type": "code",
   "execution_count": 3,
   "metadata": {},
   "outputs": [
    {
     "name": "stdout",
     "output_type": "stream",
     "text": [
      "수집을 시작합니다.\n",
      "수집을 중지합니다.\n",
      "데이터 수집을 종료합니다.\n"
     ]
    }
   ],
   "source": [
    "car.collect_data()"
   ]
  },
  {
   "cell_type": "code",
   "execution_count": null,
   "metadata": {},
   "outputs": [],
   "source": []
  }
 ],
 "metadata": {
  "kernelspec": {
   "display_name": "Python 3",
   "language": "python",
   "name": "python3"
  },
  "language_info": {
   "codemirror_mode": {
    "name": "ipython",
    "version": 3
   },
   "file_extension": ".py",
   "mimetype": "text/x-python",
   "name": "python",
   "nbconvert_exporter": "python",
   "pygments_lexer": "ipython3",
   "version": "3.7.3"
  }
 },
 "nbformat": 4,
 "nbformat_minor": 4
}
