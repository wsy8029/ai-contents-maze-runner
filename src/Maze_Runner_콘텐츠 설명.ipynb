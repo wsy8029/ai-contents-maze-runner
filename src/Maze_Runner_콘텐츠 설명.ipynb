{
 "cells": [
  {
   "cell_type": "markdown",
   "metadata": {},
   "source": [
    "# Maze Runner(미로찾기) - 기본 설명\n",
    "본 콘텐츠는 자동차가 미로 안에서 부딪히지 않고 움직이도록 하는 콘텐츠입니다. \n",
    "\n",
    "AI 모듈과 모터, ir 모듈로 자동차를 만들고, 자동차가 움직일 미로를 만듭니다.\n",
    "\n",
    "자동차의 움직임과 ir센서 데이터를 학습시킨 모델을 생성하여, 미로 안에서 스스로 벽에 부딪히지 않고 미로를 따라 움직일 수 있는 자동차를 만듭니다.\n",
    "### 1. 데이터 수집\n",
    "\n",
    "데이터를 수집할 때에는 자동차에 CAN 연장선으로 다이얼과 버튼을 연결해야 합니다. \n",
    "\n",
    "버튼은 데이터 수집의 시작과 종료를 정하는 역할을 합니다. \n",
    "\n",
    "다이얼은 자동차의 핸들 역할을 하며, 다이얼의 각도에 따라 자동차의 움직임이 변합니다.\n",
    "- 다이얼 각도 1 ~ 20 : 빠른 좌회전\n",
    "- 다이얼 각도 21 ~ 40: 느린 좌회전\n",
    "- 다이얼 각도 41 ~ 60 : 직진\n",
    "- 다이얼 각도 61 ~ 80: 느린 우회전\n",
    "- 다이얼 각도 81 ~ 100 : 빠른 우회전\n",
    "\n",
    "버튼을 눌러 데이터 수집을 시작하면, 자동차는 움직이기 시작합니다. 다이얼을 돌려 자동차를 미로 안에서 벽에 부딪히지 않고 움직이도록 조종합니다.\n",
    "\n",
    "자동차가 움직이는 동안 수집되어 저장되는 데이터는 아래와 같습니다.\n",
    "\n",
    "- ir1 proximity(0~100)\n",
    "- ir2 proximity(0~100)\n",
    "- 다이얼 각도 범위(1,2,3,4,5)\n",
    "- time stamp\n",
    "\n",
    "### 2. 수집한 데이터 학습 및 자동차 주행\n",
    "\n",
    "수집된 데이터는 내부적으로 전처리를 거쳐 학습 과정을 거쳐 분류 모델을 생성합니다.\n",
    "\n",
    "이를 통해 자동차는 두개의 ir 값을 입력 받아서 어떤 Dial 각도로 움직여야 하는지를 판단할 수 있게 됩니다.\n",
    "\n",
    "본 콘텐츠에서 사용된 알고리즘은 Random Forest 입니다."
   ]
  },
  {
   "cell_type": "markdown",
   "metadata": {},
   "source": [
    "# 1. 데이터 수집\n",
    "데이터 수집에서는 총 4개의 데이터를 수집합니다.  \n",
    "\n",
    "- ir1 proximity(0~100)\n",
    "- ir2 proximity(0~100)\n",
    "- 다이얼 각도 범위(1,2,3,4,5)\n",
    "- time stamp : 현재 시간\n"
   ]
  },
  {
   "cell_type": "markdown",
   "metadata": {},
   "source": [
    "### 1-1. 모듈 Import 및 클래스 객체 선언"
   ]
  },
  {
   "cell_type": "code",
   "execution_count": null,
   "metadata": {},
   "outputs": [],
   "source": [
    "from modicar import Car\n",
    "import modi\n",
    "\n",
    "bundle = modi.MODI()\n",
    "car = Car(bundle)"
   ]
  },
  {
   "cell_type": "markdown",
   "metadata": {},
   "source": [
    "### 1-2. 데이터 수집 실행\n",
    "데이터 수집을 시작하기 위해 collect_data() 메서드를 실행합니다.\n",
    "\n",
    "버튼을 누르면 데이터 수집이 시작되고, 자동차가 움직입니다. 자동차가 미로 안에서 움직이는 동안 2개의 ir, 1개의 dial 데이터, 그리고 시간 정보가 수집됩니다."
   ]
  },
  {
   "cell_type": "code",
   "execution_count": null,
   "metadata": {},
   "outputs": [],
   "source": [
    "car.collect_data()"
   ]
  },
  {
   "cell_type": "markdown",
   "metadata": {},
   "source": [
    "# 2. 수집한 데이터 학습 및 자동차 주행"
   ]
  },
  {
   "cell_type": "markdown",
   "metadata": {},
   "source": [
    "### 2-1. 모듈 Import 및 클래스 객체 선언"
   ]
  },
  {
   "cell_type": "code",
   "execution_count": null,
   "metadata": {},
   "outputs": [],
   "source": [
    "from modicar import Car\n",
    "import modi\n",
    "\n",
    "bundle = modi.MODI()\n",
    "car = Car(bundle)"
   ]
  },
  {
   "cell_type": "markdown",
   "metadata": {},
   "source": [
    "### 2-2. 학습 모델 생성 및 자동차 주행\n",
    "run() 메서드를 실행하면 수집한 데이터를 사용하여 Random Forest 모델이 생성되고, 이 모델을 사용한 자동차 주행이 시작됩니다."
   ]
  },
  {
   "cell_type": "code",
   "execution_count": null,
   "metadata": {},
   "outputs": [],
   "source": [
    "car.run()"
   ]
  }
 ],
 "metadata": {
  "kernelspec": {
   "display_name": "Python 3",
   "language": "python",
   "name": "python3"
  },
  "language_info": {
   "codemirror_mode": {
    "name": "ipython",
    "version": 3
   },
   "file_extension": ".py",
   "mimetype": "text/x-python",
   "name": "python",
   "nbconvert_exporter": "python",
   "pygments_lexer": "ipython3",
   "version": "3.7.6"
  }
 },
 "nbformat": 4,
 "nbformat_minor": 4
}
